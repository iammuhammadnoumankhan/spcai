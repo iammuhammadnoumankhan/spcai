{
 "cells": [
  {
   "cell_type": "markdown",
   "metadata": {},
   "source": [
    "# GRC Stats Crawler"
   ]
  },
  {
   "cell_type": "markdown",
   "metadata": {},
   "source": [
    "## Publications\n",
    "\n",
    "Run the scripts in the `README.md` file to prepare the data first.\n",
    "\n",
    "Then continue from the following to collect stats about the center."
   ]
  },
  {
   "cell_type": "code",
   "execution_count": 1,
   "metadata": {},
   "outputs": [
    {
     "name": "stdout",
     "output_type": "stream",
     "text": [
      "345 publications found\n"
     ]
    }
   ],
   "source": [
    "import json\n",
    "\n",
    "with open('publications.json', 'r', encoding='utf-8') as f:\n",
    "    publications = json.load(f)\n",
    "\n",
    "print(f\"{len(publications)} publications found\")"
   ]
  },
  {
   "cell_type": "markdown",
   "metadata": {},
   "source": [
    "Initialize Crossref instance"
   ]
  },
  {
   "cell_type": "code",
   "execution_count": 2,
   "metadata": {},
   "outputs": [],
   "source": [
    "from habanero import Crossref\n",
    "\n",
    "cr = Crossref()"
   ]
  },
  {
   "cell_type": "markdown",
   "metadata": {},
   "source": [
    "For every publication:"
   ]
  },
  {
   "cell_type": "code",
   "execution_count": 3,
   "metadata": {},
   "outputs": [],
   "source": [
    "publications.reverse()"
   ]
  },
  {
   "cell_type": "code",
   "execution_count": 4,
   "metadata": {},
   "outputs": [
    {
     "name": "stdout",
     "output_type": "stream",
     "text": [
      "(8/345) A Scalable Parallel Algorithm for Periodic Symmetric Toeplitz Tridiagonal Systems 0 \n",
      "(9/345) Shared Virtual Memory and Generalized Speedup 14 google_scholar\n",
      "(11/345) A Green's Function Approach to Distributed Solution of Tridiagonal Systems 0 \n",
      "(12/345) A Massively Parallel Algorithm for Compact Finite Difference Schemes 0 crossref\n",
      "(13/345) Performance Prediction of Scalable Computing: A case study 1 crossref\n",
      "(17/345) Performance Considerations : A Case Study Using a Scalable Shared-Virtual-Memory Machines 0 \n",
      "(18/345) The Relation of Scalability and Execution Time 24 google_scholar\n",
      "(19/345) MpPVM: A Software System for Non-Dedicated Heterogeneous Computing 0 \n",
      "(22/345) A Simulation Study of Packed Exponential Connection Network 0 \n",
      "(23/345) Memory Space Representation for Heterogeneous Network Process Migration 17 google_scholar\n",
      "(24/345) Performance Range Comparison Via Crossing Point Analysis 0 \n",
      "(26/345) Communication Overhead: Prediction and Its Influence on Scalability 0 \n",
      "(27/345) Performance Range Comparison for Restructuring Compilation 0 crossref\n",
      "(29/345) A Coordinated Approach for Process Migration in Heterogeneous Environments 0 \n",
      "(30/345) A Domain Decomposition Based Parallel Solver for Time Dependent Differential Equations 0 \n",
      "(31/345) A Factorial Performance Evaluation for Hierarchical Memory Systems 1 crossref\n",
      "(32/345) SCALA: A Framework for Performance Evaluation of Scalable Computing 1 crossref\n",
      "(33/345) Average-Case Analysis of Isospeed Scalability of Parallel Computations on Multiprocessors 0 crossref\n",
      "(36/345) A High-Order Multilevel ADI Solver for Generalized Helmholtz Equations 0 \n",
      "(37/345) Virtual Collaboratory in Windows-NT Environment 0 \n",
      "(38/345) Design and Implementation of a Java-based Distributed Debugger Supporting PVM and MPI 0 \n",
      "(41/345) PDRS: A Performance Data Representation System 0 crossref\n",
      "(42/345) Performance Modeling of Interconnection Network 0 \n",
      "(43/345) Adaptive Wavelet ADI Method: Application and parallelization 1 crossref\n",
      "(45/345) A Statistical-Empirical Hybrid Approach to Hierarchical Memory Analysis 0 crossref\n",
      "(46/345) Execution-driven performance analysis for distributed and parallel systems 15 google_scholar\n",
      "(48/345) Data Collection and Restoration for Heterogeneous Process Migration 57 google_scholar\n",
      "(51/345) A Protocol Design for Communication State Transfer for Distributed Computing 0 \n",
      "(53/345) Communication State Transfer for the Mobility of Concurrent Heterogenous Computing 25 google_scholar\n",
      "(54/345) Stable, Globally Non-iterative, Non-overlapping Domain Decomposition Parallel Solvers for Parabolic Problems 19 google_scholar\n",
      "(55/345) Design and Development of a Scalable Distributed Debugger for Cluster Computing 0 \n",
      "(58/345) A Parallel Two-level Hybrid Method for Diagonal Dominant Tridiagonal Systems 0 \n",
      "(61/345) SNOW : Software Systems for Process Migration in High-Performance, Heterogeneous Distributed Environments 1 crossref\n",
      "(63/345) A QoS Guided Scheduling Algorithm for the Computational Grid 0 \n",
      "(65/345) Grid Harvest Service: A System for Long-Term, Application-Level Task Scheduling 0 \n",
      "(66/345) Internet Service Execution for Telephony Events 0 \n",
      "(67/345) Quantifying Locality Effect in Data Access Delay: Memory logP 0 \n",
      "(68/345) Services spanning heterogeneous networks 5 google_scholar\n",
      "(69/345) A File Transfer Component for Grids 0 \n",
      "(70/345) Flow-based Multistage Co-allocation Service 0 \n",
      "(71/345) On Design Framework of Context Aware Embedded Systems 0 \n",
      "(72/345) Accessing telephony services from the Internet 1 crossref\n",
      "(73/345) A General Self-adaptive Task Scheduling System for Non-dedicated Heterogeneous Computing 1 crossref\n",
      "(74/345) HPCM: A Pre-compiler Aided Middleware for the Mobility of Legacy Code 0 \n",
      "(75/345) Improving the Performance of MPI Derived Datatypes by Optimizing Memory-Access Cost 72 google_scholar\n",
      "(81/345) A Runtime System for Automatic Rescheduling of MPI Program 0 \n",
      "(82/345) Predicting the Memory-Access Cost Based on Data Access Patterns 0 \n",
      "(83/345) Memory Conscious Task Partition and Scheduling in Grid Environments 1 crossref\n",
      "(84/345) Extensions to an Internet signaling protocol to support telecommunication services 9 google_scholar\n",
      "(85/345) Incorporating Data Movement into Grid Task Scheduling 1 crossref\n",
      "(89/345) A Systematic Approach for Closer Integration of Cellular and Internet Services 16 google_scholar\n",
      "(90/345) GHS, A Performance System of Grid Computing 8 crossref\n",
      "(91/345) Highly Parallel Algorithms for the Numerical Simulation of Unsteady Diffusion Processes 1 crossref\n",
      "(92/345) A Neural Network Based Predictive Mechanism for Available Bandwidth 23 crossref\n",
      "(93/345) Ubiquitous Services in the Next Generation Network: Constraining and Facilitating Forces 0 \n",
      "(94/345) Scalability of Heterogeneous Computing 0 \n",
      "(95/345) The GHS Grid Scheduling System: Implementation and Performance Comparison 0 crossref\n",
      "(96/345) Failure-Aware Resource Selection for Grid Computing 0 \n",
      "(97/345) Exploit Failure Prediction for Adaptive Fault-Tolerance in Cluster Computing 113 google_scholar\n",
      "(98/345) STAS: A Scalability Testing and Analysis System 22 crossref\n",
      "(100/345) Network Bandwidth Predictor (NBP): A System for Online Network Performance Forecasting 17 crossref\n",
      "(101/345) MPI-Mitten: Enabling Migration Technology in MPI 0 crossref\n",
      "(102/345) QoS Oriented Resource Reservation in Shared Environments 36 google_scholar\n",
      "(103/345) Automatic Memory Optimizations for Improving MPI Derived Datatype Performance 22 google_scholar\n",
      "(104/345) Memory Servers: A Scope of SOA for High-End Computing 7 google_scholar\n",
      "(107/345) Improving Data Access Performance with Server Push Architecture 8 crossref\n",
      "(108/345) Dynamic Scheduling with Process Migration 48 google_scholar\n",
      "(109/345) A Workflow-based Non-intrusive Approach for Enhancing the Survivability of Critical Infrastructures in Cyber Environment 39 google_scholar\n",
      "(110/345) A Fault Diagnosis and Prognosis Service for TeraGrid Clusters 0 \n",
      "(111/345) Using Adaptive Fault Tolerance to Improve Application Robustness on the TeraGrid 0 \n",
      "(112/345) Quality of Service of Grid Computing: Resource Sharing 18 google_scholar\n",
      "(113/345) Fault-Driven Re-Scheduling For Improving System-level Fault Resilience 8 crossref\n",
      "(114/345) Exploring Meta-learning to Improve Failure Prediction in Supercomputing Clusters 0 \n",
      "(115/345) Anomaly Localization in Large-scale Clusters 37 google_scholar\n",
      "(116/345) Data Access History Cache and Associated Data Prefetching Mechanisms 0 \n",
      "(117/345) Performance under Failure of High-End Computing 0 \n",
      "(118/345) The LQCD Workflow Experience: What We Have Learned (Poster Presentation) 0 \n",
      "(121/345) Towards a Fault-aware Computing Environment 0 \n",
      "(122/345) Enhancing Application Robustness through Adaptive Fault Tolerance 8 google_scholar\n",
      "(123/345) A Taxonomy of Data Prefetching Mechanisms 18 crossref\n",
      "(124/345) A Fast Recovery Mechanism for Checkpointing in Networked Environments 0 \n",
      "(126/345) Dynamic Meta-Learning for Failure Prediction in Large-scale Systems: A Case Study 39 crossref\n",
      "(127/345) Exploring Parallel I/O Concurrency with Speculative Prefetching 32 google_scholar\n",
      "(128/345) Scalable Computing in Multicore Era 0 \n",
      "(129/345) Parallel I/O Prefetching Using MPI File Caching and I/O Signatures 196 google_scholar\n",
      "(130/345) Hiding I/O Latency with Pre-execution Prefetching for Parallel Applications 0 \n",
      "(131/345) Lattice QCD Workflows: A Case Study 6 crossref\n",
      "(136/345) Core-Aware Memory Access Scheduling Schemes 0 \n",
      "(137/345) Performance under Failures of DAG-based Parallel Computing 24 google_scholar\n",
      "(138/345) System Log Pre-processing to Improve Failure Prediction 139 google_scholar\n",
      "(139/345) Fault-Aware, Utility-Based Job Scheduling on Blue Gene/P Systems 0 \n",
      "(140/345) Reliability-Aware Scalability Models for High Performance Computing 72 google_scholar\n",
      "(141/345) V-MCS: A Configuration System for Virtual Machines 4 crossref\n",
      "(142/345) An Implementation and Evaluation of Memory-based Checkpointing (Poster Presentation) 0 \n",
      "(143/345) Data Layout Optimization for Petascale File Systems 0 \n",
      "(144/345) Performance under Failure of Multi-tier Web Services 0 crossref\n",
      "(145/345) Modeling Data Access Contention in Multicore Architectures 1 crossref\n",
      "(148/345) Analyzing and Adjusting User Runtime Estimates to Improve Job Scheduling on Blue Gene/P 0 \n",
      "(149/345) Characterizing the Energy Efficiency of I/O Intensive Parallel Applications on Power-Aware Clusters 5 crossref\n",
      "(150/345) An Adaptive Data Prefetcher for High-Performance Processors 9 crossref\n",
      "(151/345) A Layout-aware Optimization Strategy for Collective I/O 1 crossref\n",
      "(152/345) A Practical Failure Prediction with Location and Lead Time for Blue Gene/P 38 crossref\n",
      "(154/345) Timing Local Streams: Improving Timeliness in Data Prefetching 0 \n",
      "(155/345) Improving the Effectiveness of Context-based Prefetching with Multi-order Analysis 7 google_scholar\n",
      "(156/345) Optimizing HPC Fault-Tolerant Environment: An Analytical Approach 63 google_scholar\n",
      "(157/345) Improving Parallel I/O Performance with Data Layout Awareness 35 google_scholar\n",
      "(158/345) Assessing Energy Efficiency of Parallel I/O Systems 0 \n",
      "(159/345) Trace-based Adaptive Data Layout Optimization for Parallel File systems (Poster Presentation) 0 \n",
      "(160/345) REMEM: REmote MEMory as Checkpointing Storage 3 crossref\n",
      "(161/345) Performance under Failures of MapReduce Applications (Poster Presentation) 0 \n",
      "(162/345) A Hybrid Shared-nothing/Shared-data Storage Scheme for Large-scale Data Processing 1 crossref\n",
      "(163/345) PAC-PLRU: A Cache Replacement Policy to Salvage Discarded Predictions from Hardware Prefetchers 3 crossref\n",
      "(164/345) A Segment-Level Adaptive Data Layout Scheme for Improved Load Balance in Parallel File Systems 28 crossref\n",
      "(165/345) A Hybrid Shared-nothing/Shared-data Storage Architecture for Large Scale Databases(Poster Presentation) 0 \n",
      "(166/345) Reducing Fragmentation on Torus-Connected Supercomputers 51 google_scholar\n",
      "(167/345) Co-Analysis of RAS Log and Job Log on Blue Gene/P 101 google_scholar\n",
      "(168/345) LACIO: A New Collective I/O Strategy for Parallel I/O Systems 54 google_scholar\n",
      "(169/345) A Cost-intelligent Application-specific Data layout Scheme for Parallel File Systems 67 google_scholar\n",
      "(170/345) Practical Online Failure Prediction for Blue Gene/P: Period-based vs Event-driven 92 google_scholar\n",
      "(171/345) EthSpeeder: A High-performance Scalable Fault-Tolerant Ethernet Network Architecture for Data Center 0 crossref\n",
      "(172/345) Job Coscheduling on Coupled High-End Computing Systems 1 crossref\n",
      "(173/345) Performance Emulation of Cell-based AMR Cosmology Simulations 13 google_scholar\n",
      "(174/345) Layout-aware Scientific Computing - A Case Study Using MILC 0 \n",
      "(175/345) Pattern-aware File Reorganization in MPI-IO 8 crossref\n",
      "(176/345) Memory Access Cycle and the Measurement of Memory Systems 1 crossref\n",
      "(177/345) Server-Side I/O Coordination for Parallel File Systems 0 \n",
      "(180/345) Improving Parallel IO Performance of Cell-based AMR Cosmology Applications 28 google_scholar\n",
      "(181/345) A Server-Level Adaptive Data Layout Strategy for Parallel File Systems 13 crossref\n",
      "(182/345) Checkpointing Orchestration: Toward a Scalable HPC Fault-Tolerant Environment 10 crossref\n",
      "(183/345) A Source-Aware Interrupt Scheduling for Modern Parallel I/O Systems 8 crossref\n",
      "(184/345) SERA-IO: Integrating Energy Consciousness into Parallel I/O Middleware 32 google_scholar\n",
      "(185/345) Performance Comparison under Failures of MPI and MapReduce: An Analytical Approach 16 google_scholar\n",
      "(186/345) Boosting Application-Specific Parallel I/O Optimization Using IOSIG 51 google_scholar\n",
      "(187/345) ADAPT: Availability-aware MapReduce Data Placement in Non-Dedicated Distributed Computing Environment 0 \n",
      "(188/345) Filtering Log Data: Finding the needles in the Haystack 22 google_scholar\n",
      "(190/345) A Decoupled Execution Paradigm for Data-Intensive High-End Computing 10 crossref\n",
      "(191/345) KNOWAC: I/O Prefetch via Accumulated Knowledge 20 crossref\n",
      "(192/345) CHAIO: Enabling HPC Applications on Data-Intensive File Systems 8 crossref\n",
      "(193/345) Adaptive Metric-Aware Job Scheduling for Production Supercomputers 27 google_scholar\n",
      "(194/345) 3-Dimensional Root Cause Diagnosis via Co-Analysis 0 \n",
      "(196/345) Hierarchical Task Mapping of Cell-based AMR Cosmology Simulations 19 google_scholar\n",
      "(197/345) Discovering Structure in Unstructured I/O 0 \n",
      "(198/345) BPS: A Performance Metric of I/O System 0 crossref\n",
      "(199/345) Pattern-Direct and Layout-Aware Replication Scheme for Parallel I/O Systems 60 google_scholar\n",
      "(200/345) A Cost-Aware Region-Level Data Placement Scheme for Hybrid Parallel I/O Systems 0 \n",
      "(202/345) I/O Acceleration with Pattern Detection 0 \n",
      "(203/345) Runtime System Design of Decoupled Execution Paradigm for Data-Intensive High-End Computing (Poster Presentation) 0 \n",
      "(205/345) Integrating dynamic pricing of electricity into energy aware scheduling for HPC systems 107 google_scholar\n",
      "(208/345) S4D-Cache: Smart Selective SSD Cache for Parallel I/O Systems 48 google_scholar\n",
      "(211/345) Performance-Aware Data Placement in Hybrid Parallel File Systems 9 crossref\n",
      "(212/345) Decoupled I/O for Data-Intensive High Performance Computing 0 \n",
      "(213/345) Balancing Job Performance with System Performance via Locality-Aware Scheduling on Torus-Connected Systems 33 google_scholar\n",
      "(214/345) Exploring Void Search for Fault Detection on Extreme Scale Systems 0 \n",
      "(215/345) SCALER: Scalable Parallel File Write in HDFS 19 google_scholar\n",
      "(216/345) Rethinking Key-Value Store for Parallel I/O Optimization 2 crossref\n",
      "(217/345) HPIS3: Towards a High-Performance Simulator for Hybrid Parallel I/O and Storage Systems 1 crossref\n",
      "(218/345) PSA: A Performance and Space-Aware Data Layout Scheme for Hybrid Parallel File Systems 10 crossref\n",
      "(223/345) YARNsim: Hadoop YARN Simulation System 0 \n",
      "(224/345) Improving Batch Scheduling on Blue Gene/Q by Relaxing 5D Torus Network Allocation Constraints 18 crossref\n",
      "(225/345) HAS: Heterogeneity-Aware Selective Data Layout Scheme for Parallel File Systems on Hybrid Servers 25 crossref\n",
      "(226/345) FatTreeSim: Modeling a Large-scale Fat-Tree Network for HPC Systems and Data Centers Using Parallel and Discrete Event Simulation 0 \n",
      "(228/345) DaCache: Memory Divergence-Aware GPU Cache Management 0 \n",
      "(230/345) LCIndex, A Local and Clustering Index on Distributed Ordered Tables for Multi-Dimensional Range Queries 10 crossref\n",
      "(231/345) A Heterogeneity-Aware Region-Level Data Layout Scheme for Hybrid Parallel File Systems 5 crossref\n",
      "(232/345) LPM: Concurrency-driven Layered Performance Matching 20 google_scholar\n",
      "(233/345) I/O-Aware Batch Scheduling for Petascale Computing Systems 33 crossref\n",
      "(234/345) Fast Fault Injection and Sensitivity Analysis for Collective Communications 1 crossref\n",
      "(235/345) IOSIG+: on the Role of I/O Tracing and Analysis for Hadoop Systems 1 crossref\n",
      "(236/345) Overcoming Hadoop Scaling Limitations through Distributed Task Execution 49 google_scholar\n",
      "(237/345) A Hadoop-Based Visualization and Diagnosis Framework for Earth Science Data 18 google_scholar\n",
      "(238/345) PortHadoop: Support Direct HPC Data Processing in Hadoop 22 google_scholar\n",
      "(240/345) Efficient Disk-to-Disk Sorting: A Case Study in Decoupled Execution Paradigm 0 \n",
      "(241/345) C^2-bound: A Capacity and Concurrency driven Analytical Model for Manycore Design 0 \n",
      "(242/345) Dominoes: Speculative Repair in Erasure Coded Hadoop System 1 crossref\n",
      "(243/345) IC-Data: Improving Compressed Data Processing in Hadoop 3 crossref\n",
      "(244/345) Towards Energy Efficient Data Management in HPC: The Open Ethernet Drive Approach 3 crossref\n",
      "(246/345) Efficient Design Space Exploration via Statistical Sampling and AdaBoost Learning 43 google_scholar\n",
      "(248/345) Rethinking High Performance Computing System Architecture for Scientific Big Data Applications 0 crossref\n",
      "(249/345) Exploring Partial Replication to Improve Lightweight Silent Data Corruption Detection for HPC Applications 17 google_scholar\n",
      "(250/345) Utilizing Concurrency: A New Theory for Memory Wall 1 crossref\n",
      "(253/345) Leveraging Burst Buffer Coordination to Prevent I/O Interference 51 google_scholar\n",
      "(255/345) Visualization and Adaptive Subsetting of Earth Science Data in HDFS - A Novel Data Analysis Strategy with Hadoop and Spark 10 google_scholar\n",
      "(256/345) Efficient Design Space Exploration by Knowledge Transfer 0 \n",
      "(257/345) A Data Driven Scheduling Approach for Power Management on HPC Systems 19 crossref\n",
      "(258/345) Watch Out for the Bully! Job Interference Study on Dragonfly Network 48 crossref\n",
      "(262/345) Towards Optimizing Large-Scale Data Transfers with End-to-End Integrity Verification 0 \n",
      "(265/345) Experience and Practice of Batch Scheduling on Leadership Supercomputers at Argonne 45 google_scholar\n",
      "(271/345) Trade-off Between Prediction Accuracy and Underestimation Rate in Job Runtime Estimates 62 google_scholar\n",
      "(272/345) Syndesis: Mapping Objects to Files for a Unified Data Access System 0 \n",
      "(273/345) Principles of Memory-Centric Programming for High Performance Computing 4 google_scholar\n",
      "(274/345) Evaluating GPGPU Memory Performance Through the C-AMAT Model 6 google_scholar\n",
      "(275/345) Open Ethernet Drive: Evolution of Energy-Efﬁcient Storage Technology 0 \n",
      "(276/345) Enosis: Bridging the Semantic Gap between File-based and Object-based Data Models 0 \n",
      "(277/345) Horizon: A Multi-abstraction Framework for Graph Analytics 0 \n",
      "(278/345) Trade-off Study of Localizing Communication and Balancing Network Traffic on Dragonfly System 15 crossref\n",
      "(279/345) A Migratory Heterogeneity-Aware Data Layout Scheme for Parallel File Systems 3 crossref\n",
      "(280/345) Hermes: A Heterogeneous-Aware Multi-Tiered Distributed I/O Buffering System 0 \n",
      "(281/345) IRIS: I/O Redirection via Integrated Storage 0 \n",
      "(283/345) SciDP: Support HPC and Big Data Applications via Integrated Scientific Data Processing 8 google_scholar\n",
      "(284/345) Harmonia: An Interference-Aware Dynamic I/O Scheduler for Shared Non-Volatile Burst Buffers 23 crossref\n",
      "(286/345) Vidya: Performing Code-Block I/O Characterization for Data Access Optimization 17 google_scholar\n",
      "(288/345) An Intelligent, Adaptive, and Flexible Data Compression Framework 15 google_scholar\n",
      "(289/345) LABIOS: A Distributed Label-Based I/O System 0 \n",
      "(293/345) NIOBE: An Intelligent I/O Bridging Engine for Complex and Distributed Workflows 1 crossref\n",
      "(294/345) Self-adaptive Address Mapping Mechanism for Access Pattern Awareness on DRAM 0 crossref\n",
      "(298/345) HCompress: Hierarchical Data Compression for Multi-Tiered Storage Environments 18 google_scholar\n",
      "(299/345) HFetch: Hierarchical Data Prefetching for Scientific Workflows in Multi-Tiered Storage Environments 9 crossref\n",
      "(300/345) HCL: Distributing Parallel Data Structures in Extreme Scales 1 crossref\n",
      "(301/345) ChronoLog: A Distributed Shared Tiered Log Store with Time-based Data Ordering 0 \n",
      "(302/345) Performance Modeling and Evaluation of a Production Disaggregated Memory System 1 crossref\n",
      "(303/345) APAC: An Accurate and Adaptive Prefetch Framework with Concurrent Memory Access Analysis 7 crossref\n",
      "(309/345) HReplica: A Dynamic Data Replication Engine with Adaptive Compression for Multi-Tiered Storage 2 crossref\n",
      "(313/345) DLIO: A Data-Centric Benchmark for Scientific Deep Learning Applications 12 crossref\n",
      "(314/345) Apollo: An ML-assisted Real-Time Storage Resource Observer 0 \n",
      "(315/345) AUTO-PRUNE: Automated DNN Pruning and Mapping for ReRAM-Based Accelerator 0 \n",
      "(316/345) CoPIM: A Concurrency-aware PIM Workload Offloading Architecture for Graph Applications 6 crossref\n",
      "(317/345) HFlow: A Dynamic and Elastic Multi-Layered Data Forwarder 1 crossref\n",
      "(318/345) CSWAP: A Self-Tuning Compression Framework for Accelerating Tensor Swapping in GPUs 6 crossref\n",
      "(319/345) pMEMCPY: a simple, lightweight, and portable I/O library for storing data in persistent memory 3 crossref\n",
      "(320/345) Premier: A Concurrency-Aware Pseudo-Partitioning Framework for Shared Last-Level Cache 3 crossref\n",
      "(325/345) NVAlloc: Rethinking Heap Metadata Management in Persistent Memory Allocators 17 crossref\n",
      "(326/345) Stimulus: Accelerate Data Management for Scientific AI applications in HPC 0 crossref\n",
      "(329/345) LabStor: A Modular and Extensible Platform for Developing High-Performance, Customized I/O Stacks in Userspace 1 crossref\n",
      "(330/345) A Generalized Model For Modern Hierarchical Memory System 2 crossref\n",
      "(332/345) LuxIO: Intelligent Resource Provisioning and Auto-Configuration for Storage Services 0 crossref\n",
      "(333/345) CARE: A Concurrency-Aware Enhanced Lightweight Cache Management Framework 2 crossref\n",
      "(334/345) iCACHE: An Importance-Sampling-Informed Cache for Accelerating I/O-Bound DNN Model Training 2 crossref\n",
      "(336/345) An Evaluation of DAOS for Simulation and Deep Learning HPC Workloads 2 crossref\n",
      "(337/345) Data Lifecycles: Optimizing Workflow Task & Data Coordination 0 \n",
      "(340/345) IOMax: Maximizing Out-of-Core I/O Analysis Performance on HPC Systems 0 crossref\n",
      "(342/345) CHROME: Concurrency-Aware Holistic Cache Management Framework with Online Reinforcement Learning 0 crossref\n",
      "(343/345) ACES: Accelerating Sparse Matrix Multiplication with Adaptive Execution Flow and Concurrency-Aware Cache Optimizations 0 \n",
      "(344/345) TunIO: An AI-powered Framework for Optimizing HPC I/O 0 \n",
      "(345/345) Hades: A Context-Aware Active Storage Framework for Accelerating Large-Scale Data Analysis 0 \n"
     ]
    }
   ],
   "source": [
    "import requests\n",
    "import serpapi\n",
    "from string import digits\n",
    "from thefuzz import fuzz\n",
    "\n",
    "\n",
    "OC_API_KEY = ''\n",
    "OC_CITE_COUNT_API = 'https://opencitations.net/index/coci/api/v1/citation-count/'\n",
    "OC_HTTP_HEADERS = {'authorization': OC_API_KEY}\n",
    "SERP_API_KEY = ''\n",
    "\n",
    "\n",
    "remove_digits = str.maketrans('', '', digits)\n",
    "\n",
    "for i, publication in enumerate(publications.copy()):\n",
    "\n",
    "    # Set defaults\n",
    "    publications[i]['doi'] = ''\n",
    "    publications[i]['cite_count'] = 0\n",
    "    publications[i]['cite_source'] = ''\n",
    "    publications[i]['publisher'] = ''\n",
    "    publications[i]['venue_acronym'] = ''\n",
    "    publications[i]['venue_location'] = ''\n",
    "\n",
    "    pub_type = publication['type']\n",
    "\n",
    "    if pub_type in ['Conference', 'Workshop']:\n",
    "\n",
    "        pub_title = publication['title']\n",
    "\n",
    "        cr_works = cr.works(query=publication['title'], limit=1)\n",
    "        \n",
    "        if cr_works['message']['items']:\n",
    "\n",
    "            cr_work = cr_works['message']['items'][0]\n",
    "\n",
    "            cr_work_title = cr_work['title'][0]\n",
    "\n",
    "            if fuzz.ratio(pub_title, cr_work_title) > 90:\n",
    "\n",
    "                cr_work_cite_count = cr_work['is-referenced-by-count'] if 'is-referenced-by-count' in cr_work else 0\n",
    "                cr_work_doi = cr_work['DOI']\n",
    "                cr_work_publisher = cr_work['publisher'] if 'publisher' in cr_work else ''\n",
    "\n",
    "                cr_work_venue_acronym = ''\n",
    "                cr_work_venue_location = ''\n",
    "                if 'event' in cr_work:\n",
    "                    if 'acronym' in cr_work['event']:\n",
    "                        cr_work_venue_acronym = (\n",
    "                            cr_work['event']['acronym']\n",
    "                            .translate(remove_digits)\n",
    "                            .strip()\n",
    "                            .rstrip(\"-\")\n",
    "                            .strip()\n",
    "                            .rstrip(\"'\")\n",
    "                            .strip()\n",
    "                        )\n",
    "                    if 'location' in cr_work['event']:\n",
    "                        cr_work_venue_location = cr_work['event']['location']\n",
    "\n",
    "                oc_cite_count = 0\n",
    "                # oc_response = requests.get(OC_CITE_COUNT_API + cr_work_doi, headers=OC_HTTP_HEADERS)\n",
    "                # if oc_response.ok:\n",
    "                #     oc_ref_arr = oc_response.json()\n",
    "                #     if oc_ref_arr:\n",
    "                #         oc_cite_count = int(oc_ref_arr[0]['count'])\n",
    "\n",
    "                publications[i]['doi'] = cr_work_doi\n",
    "                publications[i]['cite_count'] = max(cr_work_cite_count, oc_cite_count)\n",
    "                publications[i]['cite_source'] = 'crossref'\n",
    "                publications[i]['publisher'] = cr_work_publisher\n",
    "                publications[i]['venue_acronym'] = cr_work_venue_acronym\n",
    "                publications[i]['venue_location'] = cr_work_venue_location\n",
    "\n",
    "        try:\n",
    "            # go to google scholar only for publications with more than 1 citation due to api limit\n",
    "            if publications[i]['cite_count'] > 1:\n",
    "                gs_cite_count = 0\n",
    "                gs_params = dict(\n",
    "                    api_key=SERP_API_KEY,\n",
    "                    engine=\"google_scholar\",\n",
    "                    num=1,\n",
    "                    q=pub_title,\n",
    "                )\n",
    "                gs_results = serpapi.search(gs_params)\n",
    "                if 'organic_results' in gs_results and len(gs_results['organic_results']) > 0:\n",
    "                    gs_result = gs_results['organic_results'][0]\n",
    "                    gs_title = gs_result['title']\n",
    "                    \n",
    "                    if fuzz.ratio(pub_title, gs_title) > 90:\n",
    "                        gs_cite_count = gs_result['inline_links']['cited_by']['total']\n",
    "\n",
    "                        # fix citation count\n",
    "                        publications[i]['cite_count'] = max(publications[i]['cite_count'], gs_cite_count)\n",
    "                        publications[i]['cite_source'] = 'google_scholar'\n",
    "        except:\n",
    "            # pass, probably api limit\n",
    "            pass\n",
    "\n",
    "        pub_cite_count = publications[i]['cite_count']\n",
    "        pub_cite_source = publications[i]['cite_source']\n",
    "\n",
    "        print(f\"({i + 1}/{len(publications)})\", pub_title, pub_cite_count, pub_cite_source)\n"
   ]
  },
  {
   "cell_type": "code",
   "execution_count": 11,
   "metadata": {},
   "outputs": [],
   "source": [
    "import re\n",
    "from datetime import datetime\n",
    "\n",
    "# publications.reverse()\n",
    "\n",
    "for i, publication in enumerate(publications.copy()):\n",
    "\n",
    "    pub_title = publication['title']\n",
    "    pub_type = publication['type']\n",
    "    pub_venue = publication['venue']\n",
    "    pub_venue_acronym = publication['venue_acronym']\n",
    "\n",
    "    publications[i]['month'] = 0\n",
    "    publications[i]['year'] = 0\n",
    "    pub_date = publication['date']\n",
    "    if pub_date != 'TBA':\n",
    "        pub_dt = datetime.strptime(pub_date, '%B, %Y')\n",
    "        publications[i]['month'] = pub_dt.month\n",
    "        publications[i]['year'] = pub_dt.year\n",
    "\n",
    "    publications[i]['is_best_paper'] = False\n",
    "    if pub_type in ['Conference', 'Journal', 'Workshop']:\n",
    "        if re.search('best', pub_title, re.IGNORECASE) or \\\n",
    "            re.search('best', pub_venue, re.IGNORECASE):\n",
    "            pub_tags = publication.get('tags', [])\n",
    "            pub_tags.append('Best Paper Award')\n",
    "            publications[i]['is_best_paper'] = True\n",
    "            publications[i]['tags'] = pub_tags\n",
    "\n",
    "    if pub_venue_acronym == '':\n",
    "        pub_venue_matches = re.search(r'\\((.*?)\\)', pub_venue)\n",
    "        if pub_venue_matches:\n",
    "            pub_venue_acronym = (\n",
    "                pub_venue_matches\n",
    "                .group(1)\n",
    "                .translate(remove_digits)\n",
    "                .rstrip(\"-\")\n",
    "                .rstrip(\"'\")\n",
    "                .strip()\n",
    "            )\n",
    "            publications[i]['venue_acronym'] = pub_venue_acronym\n",
    "    elif pub_venue_acronym.endswith(\"'\"):\n",
    "        publications[i]['venue_acronym'] = pub_venue_acronym.rstrip(\"'\")"
   ]
  },
  {
   "cell_type": "code",
   "execution_count": 1,
   "metadata": {},
   "outputs": [
    {
     "name": "stdout",
     "output_type": "stream",
     "text": [
      "345 publications imported\n"
     ]
    }
   ],
   "source": [
    "import pandas as pd\n",
    "\n",
    "pub_df = pd.read_parquet('publications_enriched.parquet')\n",
    "# pub_df = pd.DataFrame(publications)\n",
    "\n",
    "# pub_df['month'] = pub_df['month'].astype(int)\n",
    "# pub_df['year'] = pub_df['year'].astype(int)\n",
    "\n",
    "print(f\"{len(pub_df)} publications imported\")"
   ]
  },
  {
   "cell_type": "code",
   "execution_count": 2,
   "metadata": {},
   "outputs": [
    {
     "data": {
      "text/html": [
       "<div>\n",
       "<style scoped>\n",
       "    .dataframe tbody tr th:only-of-type {\n",
       "        vertical-align: middle;\n",
       "    }\n",
       "\n",
       "    .dataframe tbody tr th {\n",
       "        vertical-align: top;\n",
       "    }\n",
       "\n",
       "    .dataframe thead th {\n",
       "        text-align: right;\n",
       "    }\n",
       "</style>\n",
       "<table border=\"1\" class=\"dataframe\">\n",
       "  <thead>\n",
       "    <tr style=\"text-align: right;\">\n",
       "      <th></th>\n",
       "      <th>title</th>\n",
       "      <th>year</th>\n",
       "      <th>cite_count</th>\n",
       "      <th>is_best_paper</th>\n",
       "    </tr>\n",
       "  </thead>\n",
       "  <tbody>\n",
       "    <tr>\n",
       "      <th>216</th>\n",
       "      <td>Parallel I/O Prefetching Using MPI File Cachin...</td>\n",
       "      <td>2008</td>\n",
       "      <td>196</td>\n",
       "      <td>False</td>\n",
       "    </tr>\n",
       "    <tr>\n",
       "      <th>207</th>\n",
       "      <td>System Log Pre-processing to Improve Failure P...</td>\n",
       "      <td>2009</td>\n",
       "      <td>139</td>\n",
       "      <td>False</td>\n",
       "    </tr>\n",
       "    <tr>\n",
       "      <th>248</th>\n",
       "      <td>Exploit Failure Prediction for Adaptive Fault-...</td>\n",
       "      <td>2006</td>\n",
       "      <td>113</td>\n",
       "      <td>False</td>\n",
       "    </tr>\n",
       "    <tr>\n",
       "      <th>140</th>\n",
       "      <td>Integrating dynamic pricing of electricity int...</td>\n",
       "      <td>2013</td>\n",
       "      <td>107</td>\n",
       "      <td>False</td>\n",
       "    </tr>\n",
       "    <tr>\n",
       "      <th>178</th>\n",
       "      <td>Co-Analysis of RAS Log and Job Log on Blue Gene/P</td>\n",
       "      <td>2011</td>\n",
       "      <td>101</td>\n",
       "      <td>False</td>\n",
       "    </tr>\n",
       "    <tr>\n",
       "      <th>175</th>\n",
       "      <td>Practical Online Failure Prediction for Blue G...</td>\n",
       "      <td>2011</td>\n",
       "      <td>92</td>\n",
       "      <td>False</td>\n",
       "    </tr>\n",
       "    <tr>\n",
       "      <th>270</th>\n",
       "      <td>Improving the Performance of MPI Derived Datat...</td>\n",
       "      <td>2003</td>\n",
       "      <td>72</td>\n",
       "      <td>False</td>\n",
       "    </tr>\n",
       "    <tr>\n",
       "      <th>205</th>\n",
       "      <td>Reliability-Aware Scalability Models for High ...</td>\n",
       "      <td>2009</td>\n",
       "      <td>72</td>\n",
       "      <td>False</td>\n",
       "    </tr>\n",
       "    <tr>\n",
       "      <th>176</th>\n",
       "      <td>A Cost-intelligent Application-specific Data l...</td>\n",
       "      <td>2011</td>\n",
       "      <td>67</td>\n",
       "      <td>False</td>\n",
       "    </tr>\n",
       "    <tr>\n",
       "      <th>189</th>\n",
       "      <td>Optimizing HPC Fault-Tolerant Environment: An ...</td>\n",
       "      <td>2010</td>\n",
       "      <td>63</td>\n",
       "      <td>False</td>\n",
       "    </tr>\n",
       "  </tbody>\n",
       "</table>\n",
       "</div>"
      ],
      "text/plain": [
       "                                                 title  year  cite_count  \\\n",
       "216  Parallel I/O Prefetching Using MPI File Cachin...  2008         196   \n",
       "207  System Log Pre-processing to Improve Failure P...  2009         139   \n",
       "248  Exploit Failure Prediction for Adaptive Fault-...  2006         113   \n",
       "140  Integrating dynamic pricing of electricity int...  2013         107   \n",
       "178  Co-Analysis of RAS Log and Job Log on Blue Gene/P  2011         101   \n",
       "175  Practical Online Failure Prediction for Blue G...  2011          92   \n",
       "270  Improving the Performance of MPI Derived Datat...  2003          72   \n",
       "205  Reliability-Aware Scalability Models for High ...  2009          72   \n",
       "176  A Cost-intelligent Application-specific Data l...  2011          67   \n",
       "189  Optimizing HPC Fault-Tolerant Environment: An ...  2010          63   \n",
       "\n",
       "     is_best_paper  \n",
       "216          False  \n",
       "207          False  \n",
       "248          False  \n",
       "140          False  \n",
       "178          False  \n",
       "175          False  \n",
       "270          False  \n",
       "205          False  \n",
       "176          False  \n",
       "189          False  "
      ]
     },
     "execution_count": 2,
     "metadata": {},
     "output_type": "execute_result"
    }
   ],
   "source": [
    "(\n",
    "    pub_df\n",
    "    .sort_values('cite_count', ascending=False)\n",
    "    .head(10)[['title', 'year', 'cite_count', 'is_best_paper']]\n",
    ")"
   ]
  },
  {
   "cell_type": "code",
   "execution_count": 3,
   "metadata": {},
   "outputs": [
    {
     "name": "stdout",
     "output_type": "stream",
     "text": [
      "154/345 DOI found\n"
     ]
    }
   ],
   "source": [
    "print(f\"{len(pub_df[pub_df['doi'] != ''])}/{len(pub_df)} DOI found\")"
   ]
  },
  {
   "cell_type": "code",
   "execution_count": 4,
   "metadata": {},
   "outputs": [
    {
     "data": {
      "text/plain": [
       "venue_acronym\n",
       "            108\n",
       "SC           33\n",
       "IPDPS        20\n",
       "Cluster      16\n",
       "CCGrid       13\n",
       "           ... \n",
       "Euro-Par      1\n",
       "ICAPP         1\n",
       "FGCS          1\n",
       "ICAC          1\n",
       "HICSS         1\n",
       "Name: count, Length: 84, dtype: int64"
      ]
     },
     "execution_count": 4,
     "metadata": {},
     "output_type": "execute_result"
    }
   ],
   "source": [
    "pub_df['venue_acronym'].value_counts()"
   ]
  },
  {
   "cell_type": "code",
   "execution_count": 5,
   "metadata": {},
   "outputs": [
    {
     "data": {
      "text/plain": [
       "venue_acronym\n",
       "SC         33\n",
       "IPDPS      20\n",
       "Cluster    16\n",
       "CCGrid     13\n",
       "ICPP       12\n",
       "TPDS       11\n",
       "HPDC        6\n",
       "JCST        5\n",
       "IPPS        5\n",
       "ICS         4\n",
       "Name: count, dtype: int64"
      ]
     },
     "execution_count": 5,
     "metadata": {},
     "output_type": "execute_result"
    }
   ],
   "source": [
    "pub_venues = pub_df[pub_df['venue_acronym'] != '']['venue_acronym'].value_counts()\n",
    "pub_venues.head(10)"
   ]
  },
  {
   "cell_type": "code",
   "execution_count": 6,
   "metadata": {},
   "outputs": [
    {
     "data": {
      "text/plain": [
       "<Axes: >"
      ]
     },
     "execution_count": 6,
     "metadata": {},
     "output_type": "execute_result"
    },
    {
     "data": {
      "image/png": "[encoded data removed]",
      "text/plain": [
       "<Figure size 640x480 with 1 Axes>"
      ]
     },
     "metadata": {},
     "output_type": "display_data"
    }
   ],
   "source": [
    "pub_venues.head(10).plot.pie(autopct='%1.1f%%', ylabel='')"
   ]
  },
  {
   "cell_type": "code",
   "execution_count": 7,
   "metadata": {},
   "outputs": [
    {
     "data": {
      "text/plain": [
       "3054"
      ]
     },
     "execution_count": 7,
     "metadata": {},
     "output_type": "execute_result"
    }
   ],
   "source": [
    "pub_df['cite_count'].sum()"
   ]
  },
  {
   "cell_type": "code",
   "execution_count": 8,
   "metadata": {},
   "outputs": [
    {
     "data": {
      "text/plain": [
       "<Axes: xlabel='year'>"
      ]
     },
     "execution_count": 8,
     "metadata": {},
     "output_type": "execute_result"
    },
    {
     "data": {
      "image/png": "[encoded data removed]",
      "text/plain": [
       "<Figure size 640x480 with 1 Axes>"
      ]
     },
     "metadata": {},
     "output_type": "display_data"
    }
   ],
   "source": [
    "(\n",
    "    pub_df\n",
    "    .query('year > 0')\n",
    "    .groupby('year')['cite_count']\n",
    "    .sum()\n",
    "    .plot.bar()\n",
    ")"
   ]
  },
  {
   "cell_type": "code",
   "execution_count": 9,
   "metadata": {},
   "outputs": [
    {
     "name": "stdout",
     "output_type": "stream",
     "text": [
      "4/345 best paper found\n"
     ]
    }
   ],
   "source": [
    "print(f\"{len(pub_df[pub_df['is_best_paper'] == True])}/{len(pub_df)} best paper found\")"
   ]
  },
  {
   "cell_type": "code",
   "execution_count": 10,
   "metadata": {},
   "outputs": [
    {
     "data": {
      "text/html": [
       "<div>\n",
       "<style scoped>\n",
       "    .dataframe tbody tr th:only-of-type {\n",
       "        vertical-align: middle;\n",
       "    }\n",
       "\n",
       "    .dataframe tbody tr th {\n",
       "        vertical-align: top;\n",
       "    }\n",
       "\n",
       "    .dataframe thead th {\n",
       "        text-align: right;\n",
       "    }\n",
       "</style>\n",
       "<table border=\"1\" class=\"dataframe\">\n",
       "  <thead>\n",
       "    <tr style=\"text-align: right;\">\n",
       "      <th></th>\n",
       "      <th>title</th>\n",
       "      <th>year</th>\n",
       "      <th>venue_acronym</th>\n",
       "      <th>type</th>\n",
       "      <th>cite_count</th>\n",
       "    </tr>\n",
       "  </thead>\n",
       "  <tbody>\n",
       "    <tr>\n",
       "      <th>32</th>\n",
       "      <td>DLIO: A Data-Centric Benchmark for Scientific ...</td>\n",
       "      <td>2021</td>\n",
       "      <td>CCGrid</td>\n",
       "      <td>Conference</td>\n",
       "      <td>12</td>\n",
       "    </tr>\n",
       "    <tr>\n",
       "      <th>56</th>\n",
       "      <td>LABIOS: A Distributed Label-Based I/O System</td>\n",
       "      <td>2019</td>\n",
       "      <td>HPDC</td>\n",
       "      <td>Conference</td>\n",
       "      <td>0</td>\n",
       "    </tr>\n",
       "    <tr>\n",
       "      <th>215</th>\n",
       "      <td>Hiding I/O Latency with Pre-execution Prefetch...</td>\n",
       "      <td>2008</td>\n",
       "      <td>SC</td>\n",
       "      <td>Conference</td>\n",
       "      <td>0</td>\n",
       "    </tr>\n",
       "    <tr>\n",
       "      <th>292</th>\n",
       "      <td>Communication State Transfer for the Mobility ...</td>\n",
       "      <td>2001</td>\n",
       "      <td>ICPP</td>\n",
       "      <td>Conference</td>\n",
       "      <td>25</td>\n",
       "    </tr>\n",
       "  </tbody>\n",
       "</table>\n",
       "</div>"
      ],
      "text/plain": [
       "                                                 title  year venue_acronym  \\\n",
       "32   DLIO: A Data-Centric Benchmark for Scientific ...  2021        CCGrid   \n",
       "56        LABIOS: A Distributed Label-Based I/O System  2019          HPDC   \n",
       "215  Hiding I/O Latency with Pre-execution Prefetch...  2008            SC   \n",
       "292  Communication State Transfer for the Mobility ...  2001          ICPP   \n",
       "\n",
       "           type  cite_count  \n",
       "32   Conference          12  \n",
       "56   Conference           0  \n",
       "215  Conference           0  \n",
       "292  Conference          25  "
      ]
     },
     "execution_count": 10,
     "metadata": {},
     "output_type": "execute_result"
    }
   ],
   "source": [
    "pub_df[pub_df['is_best_paper'] == True][['title', 'year', 'venue_acronym', 'type', 'cite_count']]"
   ]
  },
  {
   "cell_type": "code",
   "execution_count": 12,
   "metadata": {},
   "outputs": [],
   "source": [
    "pub_df[['title', 'year', 'venue_acronym', 'type', 'cite_count']].to_csv('publications_enriched.csv')"
   ]
  },
  {
   "cell_type": "code",
   "execution_count": 24,
   "metadata": {},
   "outputs": [],
   "source": [
    "pub_df.to_json('publications_enriched.json', orient='records')\n",
    "pub_df.to_parquet('publications_enriched.parquet')"
   ]
  },
  {
   "cell_type": "markdown",
   "metadata": {},
   "source": [
    "## Members"
   ]
  },
  {
   "cell_type": "code",
   "execution_count": 78,
   "metadata": {},
   "outputs": [
    {
     "name": "stdout",
     "output_type": "stream",
     "text": [
      "60 alumni imported\n"
     ]
    }
   ],
   "source": [
    "import pandas as pd\n",
    "from bs4 import BeautifulSoup\n",
    "\n",
    "mem_url = 'https://grc.iit.edu/members'\n",
    "\n",
    "alum_df = pd.read_html(mem_url)[0]\n",
    "alum_df.columns = map(lambda x: x.lower().replace(' / ', ' ').replace(' ', '_'), alum_df.columns)\n",
    "\n",
    "print(f\"{len(alum_df)} alumni imported\")"
   ]
  },
  {
   "cell_type": "code",
   "execution_count": 121,
   "metadata": {},
   "outputs": [
    {
     "data": {
      "text/plain": [
       "<Axes: >"
      ]
     },
     "execution_count": 121,
     "metadata": {},
     "output_type": "execute_result"
    },
    {
     "data": {
      "image/png": "[encoded data removed]",
      "text/plain": [
       "<Figure size 640x480 with 1 Axes>"
      ]
     },
     "metadata": {},
     "output_type": "display_data"
    }
   ],
   "source": [
    "alum_degrees = alum_df['degree'].value_counts()\n",
    "alum_degrees.plot.pie(autopct='%1.1f%%', ylabel='')"
   ]
  },
  {
   "cell_type": "markdown",
   "metadata": {},
   "source": [
    "## Classes"
   ]
  },
  {
   "cell_type": "code",
   "execution_count": 147,
   "metadata": {},
   "outputs": [
    {
     "name": "stdout",
     "output_type": "stream",
     "text": [
      "24 classes imported\n"
     ]
    }
   ],
   "source": [
    "import pandas as pd\n",
    "import requests\n",
    "from bs4 import BeautifulSoup\n",
    "\n",
    "class_url = 'http://www.cs.iit.edu/~scs/sun/classes.html'\n",
    "\n",
    "class_res = requests.get(class_url)\n",
    "class_html = BeautifulSoup(class_res.text, 'html.parser')\n",
    "\n",
    "class_list = []\n",
    "\n",
    "for li in class_html.find('ul').findAll('li'):\n",
    "    \n",
    "    class_full = li.text.strip().replace('  ', ' ').strip()\n",
    "\n",
    "    class_code = class_full[:class_full.index('(')].strip()\n",
    "    class_name = class_full[class_full.index('(') + 1:class_full.index(')')].strip()\n",
    "    \n",
    "    class_num = class_code[class_code.index(' ') + 1:].strip()\n",
    "    class_level = 'Graduate'\n",
    "    if any(class_num.startswith(prefix) for prefix in ['2', '3', '4']):\n",
    "        class_level = 'Undergraduate'\n",
    "\n",
    "    class_list.append(dict(\n",
    "        class_code=class_code,\n",
    "        class_name=class_name,\n",
    "        class_level=class_level,\n",
    "    ))\n",
    "\n",
    "print(f\"{len(class_list)} classes imported\")"
   ]
  },
  {
   "cell_type": "code",
   "execution_count": 148,
   "metadata": {},
   "outputs": [
    {
     "data": {
      "text/html": [
       "<div>\n",
       "<style scoped>\n",
       "    .dataframe tbody tr th:only-of-type {\n",
       "        vertical-align: middle;\n",
       "    }\n",
       "\n",
       "    .dataframe tbody tr th {\n",
       "        vertical-align: top;\n",
       "    }\n",
       "\n",
       "    .dataframe thead th {\n",
       "        text-align: right;\n",
       "    }\n",
       "</style>\n",
       "<table border=\"1\" class=\"dataframe\">\n",
       "  <thead>\n",
       "    <tr style=\"text-align: right;\">\n",
       "      <th></th>\n",
       "      <th>class_code</th>\n",
       "      <th>class_name</th>\n",
       "      <th>class_level</th>\n",
       "    </tr>\n",
       "  </thead>\n",
       "  <tbody>\n",
       "    <tr>\n",
       "      <th>18</th>\n",
       "      <td>CSC 7450</td>\n",
       "      <td>Programming and Performance Evaluation of Para...</td>\n",
       "      <td>Graduate</td>\n",
       "    </tr>\n",
       "    <tr>\n",
       "      <th>4</th>\n",
       "      <td>CS 450</td>\n",
       "      <td>Operating Systems</td>\n",
       "      <td>Undergraduate</td>\n",
       "    </tr>\n",
       "    <tr>\n",
       "      <th>6</th>\n",
       "      <td>CSC 4999</td>\n",
       "      <td>Independent Study, LSU</td>\n",
       "      <td>Undergraduate</td>\n",
       "    </tr>\n",
       "  </tbody>\n",
       "</table>\n",
       "</div>"
      ],
      "text/plain": [
       "   class_code                                         class_name  \\\n",
       "18   CSC 7450  Programming and Performance Evaluation of Para...   \n",
       "4      CS 450                                  Operating Systems   \n",
       "6    CSC 4999                             Independent Study, LSU   \n",
       "\n",
       "      class_level  \n",
       "18       Graduate  \n",
       "4   Undergraduate  \n",
       "6   Undergraduate  "
      ]
     },
     "execution_count": 148,
     "metadata": {},
     "output_type": "execute_result"
    }
   ],
   "source": [
    "class_df = pd.DataFrame(class_list)\n",
    "class_df.sample(3)"
   ]
  },
  {
   "cell_type": "code",
   "execution_count": 150,
   "metadata": {},
   "outputs": [
    {
     "data": {
      "text/plain": [
       "<Axes: >"
      ]
     },
     "execution_count": 150,
     "metadata": {},
     "output_type": "execute_result"
    },
    {
     "data": {
      "image/png": "[encoded data removed]",
      "text/plain": [
       "<Figure size 640x480 with 1 Axes>"
      ]
     },
     "metadata": {},
     "output_type": "display_data"
    }
   ],
   "source": [
    "class_df['class_level'].value_counts().plot.pie(autopct='%1.1f%%', ylabel='')"
   ]
  }
 ],
 "metadata": {
  "kernelspec": {
   "display_name": "Python 3",
   "language": "python",
   "name": "python3"
  },
  "language_info": {
   "codemirror_mode": {
    "name": "ipython",
    "version": 3
   },
   "file_extension": ".py",
   "mimetype": "text/x-python",
   "name": "python",
   "nbconvert_exporter": "python",
   "pygments_lexer": "ipython3",
   "version": "3.10.11"
  }
 },
 "nbformat": 4,
 "nbformat_minor": 2
}
